{
 "cells": [
  {
   "cell_type": "code",
   "execution_count": 1,
   "id": "e0cb3363",
   "metadata": {},
   "outputs": [],
   "source": [
    "## Import Libraries\n",
    "import numpy as np\n",
    "import pandas as pd \n",
    "import matplotlib.pyplot as plt"
   ]
  },
  {
   "cell_type": "code",
   "execution_count": 2,
   "id": "0ba7ee63",
   "metadata": {},
   "outputs": [],
   "source": [
    "# Read Data\n",
    "df = pd.read_csv(\"/home/kiwilytics/Desktop/kiwilytics_orders.csv\")\n"
   ]
  },
  {
   "cell_type": "code",
   "execution_count": 3,
   "id": "c6efd00a",
   "metadata": {},
   "outputs": [
    {
     "name": "stdout",
     "output_type": "stream",
     "text": [
      "    order_id customer_name     product  quantity  unit_price  order_date\n",
      "0          1         Maria  Kiwi Chips         2         3.0  2024-01-29\n",
      "1          2       Richard  Kiwi Chips         1         3.0  2024-01-08\n",
      "2          3      Nicholas  Kiwi Candy         1         2.5  2024-01-25\n",
      "3          4       Raymond  Kiwi Candy         4         NaN  2024-01-04\n",
      "4          5         David  Kiwi Juice         1         4.5  2024-02-25\n",
      "5          6          Eric  Kiwi Juice         2         4.5  2024-03-20\n",
      "6          7        Ronnie  Kiwi Chips         5         3.0  2024-01-05\n",
      "7          8         Jesse  Kiwi Candy         1         2.5  2024-03-22\n",
      "8          9        Thomas  Kiwi Candy         2         2.5  2024-02-14\n",
      "9         10         Craig  Kiwi Candy         4         2.5  2024-03-17\n",
      "10        11          John  Kiwi Chips         4         3.0  2024-01-22\n",
      "11        12          Ryan  Kiwi Candy         3         2.5  2024-01-29\n",
      "\n"
     ]
    }
   ],
   "source": [
    "# Show Data\n",
    "print(f\"{df.head(12)}\\n\")"
   ]
  },
  {
   "cell_type": "code",
   "execution_count": 4,
   "id": "27c17a68",
   "metadata": {},
   "outputs": [
    {
     "name": "stdout",
     "output_type": "stream",
     "text": [
      "<class 'pandas.core.frame.DataFrame'>\n",
      "RangeIndex: 100 entries, 0 to 99\n",
      "Data columns (total 6 columns):\n",
      " #   Column         Non-Null Count  Dtype  \n",
      "---  ------         --------------  -----  \n",
      " 0   order_id       100 non-null    int64  \n",
      " 1   customer_name  100 non-null    object \n",
      " 2   product        100 non-null    object \n",
      " 3   quantity       100 non-null    int64  \n",
      " 4   unit_price     92 non-null     float64\n",
      " 5   order_date     100 non-null    object \n",
      "dtypes: float64(1), int64(2), object(3)\n",
      "memory usage: 4.8+ KB\n",
      "None\n",
      "\n"
     ]
    }
   ],
   "source": [
    "# Check Miss Value in Data\n",
    "print(f\"{df.info()}\\n\")"
   ]
  },
  {
   "cell_type": "code",
   "execution_count": 5,
   "id": "ddef2bcd",
   "metadata": {},
   "outputs": [],
   "source": [
    "# Correcting Errors In Data\n",
    "avrg_price = df.groupby('product')['unit_price'].mean()\n",
    "df['unit_price'] = df['unit_price'].fillna(df['product'].map(avrg_price))\n",
    "df['total_price'] = df['unit_price'] * df['quantity']\n"
   ]
  },
  {
   "cell_type": "code",
   "execution_count": 6,
   "id": "e48b7fca",
   "metadata": {},
   "outputs": [
    {
     "name": "stdout",
     "output_type": "stream",
     "text": [
      "Total Price = 1167.5\n",
      "\n"
     ]
    }
   ],
   "source": [
    "# Calculate total revenue across all orders\n",
    "total = df['total_price'].sum()\n",
    "print(f\"Total Price = {total}\\n\")"
   ]
  },
  {
   "cell_type": "code",
   "execution_count": 9,
   "id": "28473df6",
   "metadata": {},
   "outputs": [
    {
     "name": "stdout",
     "output_type": "stream",
     "text": [
      "Total Quantity \n",
      "product\n",
      "Kiwi Chips       73\n",
      "Kiwi Candy       70\n",
      "Kiwi Juice       61\n",
      "Kiwi Smoothie    46\n",
      "Kiwi Jam         41\n",
      "Name: quantity, dtype: int64\n",
      "\n"
     ]
    }
   ],
   "source": [
    "# Total Quantity for each Prouduct\n",
    "total_quantity = df.groupby('product')['quantity'].sum().sort_values(ascending=False)\n",
    "print(f\"Total Quantity \\n{total_quantity}\\n\")"
   ]
  },
  {
   "cell_type": "code",
   "execution_count": 10,
   "id": "9f5c4944",
   "metadata": {},
   "outputs": [
    {
     "name": "stdout",
     "output_type": "stream",
     "text": [
      "Total Spending \n",
      "customer_name\n",
      "Eric       21\n",
      "Ashley     15\n",
      "James      12\n",
      "Ryan        9\n",
      "Rebecca     7\n",
      "Bonnie      7\n",
      "Laura       6\n",
      "Thomas      6\n",
      "Erin        6\n",
      "Donna       5\n",
      "Name: quantity, dtype: int64\n",
      "\n"
     ]
    }
   ],
   "source": [
    "# Which customer has the highest total spending across all orders\n",
    "total_spending = df.groupby('customer_name')['quantity'].sum().sort_values(ascending=False).head(10)\n",
    "print(f\"Total Spending \\n{total_spending}\\n\")\n"
   ]
  },
  {
   "cell_type": "code",
   "execution_count": null,
   "id": "06351222",
   "metadata": {},
   "outputs": [],
   "source": []
  }
 ],
 "metadata": {
  "kernelspec": {
   "display_name": "Python 3",
   "language": "python",
   "name": "python3"
  },
  "language_info": {
   "codemirror_mode": {
    "name": "ipython",
    "version": 3
   },
   "file_extension": ".py",
   "mimetype": "text/x-python",
   "name": "python",
   "nbconvert_exporter": "python",
   "pygments_lexer": "ipython3",
   "version": "3.10.12"
  }
 },
 "nbformat": 4,
 "nbformat_minor": 5
}
